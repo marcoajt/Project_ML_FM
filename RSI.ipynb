{
 "cells": [
  {
   "cell_type": "code",
   "execution_count": 14,
   "metadata": {},
   "outputs": [],
   "source": [
    "#Instala os pacotes básicos\n",
    "import pandas as pd\n",
    "try:\n",
    "    import pandas_ta as ta\n",
    "except:\n",
    "    !pip install pandas_ta\n",
    "    import pandas_ta as ta\n",
    "import datetime as dt\n",
    "import math\n",
    "import matplotlib\n",
    "import plotly.graph_objects as go\n",
    "from plotly.subplots import make_subplots \n",
    "import numpy as np\n",
    "\n",
    "from IPython.display import display\n",
    "\n",
    "import stockstats as sts\n",
    "\n",
    "import talib\n",
    "\n",
    "#Constantes e parâmetros\n",
    "DIRETORIO_DADOS = './data/'         #Diretório dos arquivos de dados (leitura)\n",
    "DIRETORIO_SAIDA = './output/'       #Diretório dos arquivos de saída (escrita)\n",
    "TICKET = 'EURUSD'                   #Moeda (par)\n",
    "TIMEFRAME = 240                     #Tempo gráfico\n",
    "INICIO = '1999-01-01'               #Data inicial\n",
    "FINAL = '2024-04-01'                #Data final\n",
    "\n",
    "ATR_PERIOD = 14                     #Período do ATR   \n",
    "EMA_FAST = 50                       #Período da EMA rápida\n",
    "EMA_MEAN = 144                      #Período da EMA média    \n",
    "EMA_SLOW = 200                      #Período da EMA lenta\n",
    "RSI_PERIOD = 14                     #Período do RSI \n",
    "\n",
    "TAM_STOP = 1                        #Tamanho do stop loss em ATRs\n",
    "RISCO_RETORNO = 3                   #Relação risco-retorno \n",
    "TOTAL_TAXAS = 0.0001                #Soma da taxa, spread e slipagge"
   ]
  },
  {
   "cell_type": "code",
   "execution_count": 15,
   "metadata": {},
   "outputs": [],
   "source": [
    "#Carrega a base de dados, define o nome das colunas, cria o índcie e remove os registros que não estão no período solicitado\n",
    "#Reforna o dataframe com os dados carregados no formato exigido pelas rotinas do sistema\n",
    "def carregarArquivo(DIRETORIO, TICKET, TIMEFRAME, INICIO, FINAL):\n",
    "    df_full = pd.read_csv(DIRETORIO+TICKET+str(TIMEFRAME)+'.csv')\n",
    "    df_full.dropna(axis=0, how='all', inplace=True) #Remove todos os registros com null em algum campo\n",
    "    df_full.columns=(['Date', 'Time', 'Open', 'High', 'Low', 'Close', 'Volume']) #Seta os cabeçalhos dos campos\n",
    "    df_full = df_full[(df_full['High'] > df_full['Low']) & (df_full['Volume'] > 1)] #Remove candles sem negociação\n",
    "    df_full['Open time'] = pd.to_datetime(df_full['Date'] + ' ' + df_full['Time'] + ':00+0300', format='%Y.%m.%d %H:%M:%S%z')\n",
    "    df_full.drop(df_full.iloc[:, 0:2], axis = 1, inplace=True) #Remove os campos date e time\n",
    "    df_full.set_index('Open time', inplace = True) #Cria o índice\n",
    "    df = df_full[(df_full.index >= pd.to_datetime(INICIO+' 00:00:00+0300')) & (df_full.index <= pd.to_datetime(FINAL+' 00:00:00+0300'))]\n",
    "    del[df_full] #Deleta a base full\n",
    "    return df #Retorna a base com os registros do período selecionado\n",
    "# #end def"
   ]
  },
  {
   "cell_type": "code",
   "execution_count": 16,
   "metadata": {},
   "outputs": [],
   "source": [
    "df = carregarArquivo(DIRETORIO_DADOS, TICKET, TIMEFRAME, INICIO, FINAL)"
   ]
  },
  {
   "cell_type": "code",
   "execution_count": 17,
   "metadata": {},
   "outputs": [],
   "source": [
    "df['RSI'] = ta.rsi(close=df['Close'], length=RSI_PERIOD)\n",
    "\n",
    "\n",
    "stock = sts.StockDataFrame.retype(df)\n",
    "stock['rsi_14']\n",
    "\n",
    "df['RSI_Talib'] = talib.RSI(df['close'], timeperiod=14)\n",
    "# df.dropna(inplace = True)"
   ]
  },
  {
   "cell_type": "code",
   "execution_count": 19,
   "metadata": {},
   "outputs": [],
   "source": [
    "df.to_csv('RSI.csv')"
   ]
  }
 ],
 "metadata": {
  "kernelspec": {
   "display_name": "Python 3",
   "language": "python",
   "name": "python3"
  },
  "language_info": {
   "codemirror_mode": {
    "name": "ipython",
    "version": 3
   },
   "file_extension": ".py",
   "mimetype": "text/x-python",
   "name": "python",
   "nbconvert_exporter": "python",
   "pygments_lexer": "ipython3",
   "version": "3.10.7"
  },
  "orig_nbformat": 4
 },
 "nbformat": 4,
 "nbformat_minor": 2
}
